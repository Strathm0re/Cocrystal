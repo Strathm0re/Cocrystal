{
 "cells": [
  {
   "metadata": {},
   "cell_type": "markdown",
   "source": [
    "Negative samples generation recipe:\n",
    "\n",
    "For a cocrystal pair (molA,molB), a constructed negative sample will be generated according to the following steps:\n",
    "\n",
    "(i)\tRandomly choose a molecule between molA and molB. Without the loss of generality, suppose that molA is chosen.\n",
    "\n",
    "(ii)\tRandomly choose another cocrystal pair (molC,molD) from the whole cocrystal data set.\n",
    "\n",
    "(iii)\tRandomly choose a molecule between molC and molD. Without the loss of generality, suppose that molC is chosen.\n",
    "\n",
    "(iv)\tCalculate the ECFP4-based Tanimoto similarity coefficient (Tc) (24) between molC and each coformer of molA. If there exists at least one coformer of molA, for example, named as molAi, that satisfies the condition\n",
    "\t(1)Tc(molC,molAi)>=0.6\n",
    "then discard molC and return to step ii.\n",
    "\n",
    "(v)\t(molA,molC) is consequently generated as a negative sample for (molA,molB)."
   ],
   "id": "2b022309537f5d7c"
  },
  {
   "metadata": {
    "ExecuteTime": {
     "end_time": "2025-01-08T09:46:24.364264Z",
     "start_time": "2025-01-08T09:42:18.459507Z"
    }
   },
   "cell_type": "code",
   "source": [
    "import pandas as pd\n",
    "from rdkit import Chem\n",
    "from rdkit.Chem import MACCSkeys\n",
    "from rdkit.DataStructs import FingerprintSimilarity\n",
    "import random\n",
    "\n",
    "random.seed(42)\n",
    "\n",
    "# Read the maccs_fingerprints.csv file\n",
    "df = pd.read_csv('maccs_fingerprints.csv')\n",
    "\n",
    "# Define a function to calculate the Tanimoto similarity coefficient\n",
    "def calculate_tanimoto_similarity(fp1, fp2):\n",
    "    return FingerprintSimilarity(fp1, fp2)\n",
    "\n",
    "# Define a function to generate negative samples\n",
    "def generate_negative_samples(df, threshold=0.4, num_samples=7655):\n",
    "    negative_samples = []\n",
    "    \n",
    "    while len(negative_samples) < num_samples:\n",
    "        # Randomly select a co-crystal pair\n",
    "        random_row = df.sample(n=1)\n",
    "        molA_smiles = random_row.iloc[0]['coformer1']\n",
    "        \n",
    "        # Find all rows containing molA\n",
    "        molA_rows = df[(df['coformer1'] == molA_smiles) | (df['coformer2'] == molA_smiles)]\n",
    "        \n",
    "        # Extract the other monomer's SMILES from these rows\n",
    "        other_smiles_list = [row['coformer2'] if row['coformer1'] == molA_smiles else row['coformer1'] for index, row in molA_rows.iterrows()]\n",
    "        \n",
    "        # Randomly select another co-crystal pair\n",
    "        while True:\n",
    "            random_row = df.sample(n=1)\n",
    "            molC_smiles = random_row.iloc[0]['coformer1'] if random_row.iloc[0]['coformer1'] != molA_smiles else random_row.iloc[0]['coformer2']\n",
    "            \n",
    "            # Generate MACCS fingerprints\n",
    "            molA_fp = MACCSkeys.GenMACCSKeys(Chem.MolFromSmiles(molA_smiles))\n",
    "            molC_fp = MACCSkeys.GenMACCSKeys(Chem.MolFromSmiles(molC_smiles))\n",
    "            \n",
    "            # Calculate the Tanimoto similarity coefficient between molC and all other monomers of molA\n",
    "            is_similar = any(calculate_tanimoto_similarity(molC_fp, MACCSkeys.GenMACCSKeys(Chem.MolFromSmiles(other_smiles))) >= threshold for other_smiles in other_smiles_list)\n",
    "            \n",
    "            # If molC is similar to any other monomer of molA (similarity >= threshold), select another molC\n",
    "            if is_similar:\n",
    "                continue\n",
    "            \n",
    "            # If molC is not similar to any other monomer of molA (all similarities < threshold), keep the SMILES of molA and molC\n",
    "            negative_samples.append((molA_smiles, molC_smiles))\n",
    "            break\n",
    "\n",
    "    return negative_samples\n",
    "\n",
    "# Generate negative samples\n",
    "negative_samples = generate_negative_samples(df)\n",
    "\n",
    "# Convert negative samples to a DataFrame\n",
    "negative_samples_df = pd.DataFrame(negative_samples, columns=['coformer1', 'coformer2'])\n",
    "\n",
    "# Save to a CSV file\n",
    "negative_samples_df.to_csv('negative_samples.csv', index=False)"
   ],
   "id": "7089315b9ee2060f",
   "outputs": [
    {
     "name": "stderr",
     "output_type": "stream",
     "text": [
      "[17:46:14] Conflicting single bond directions around double bond at index 1.\n",
      "[17:46:14]   BondStereo set to STEREONONE and single bond directions set to NONE.\n"
     ]
    }
   ],
   "execution_count": 15
  },
  {
   "metadata": {
    "ExecuteTime": {
     "end_time": "2025-01-08T09:46:45.556372Z",
     "start_time": "2025-01-08T09:46:24.365264Z"
    }
   },
   "cell_type": "code",
   "source": [
    "import pandas as pd\n",
    "from rdkit import Chem\n",
    "from rdkit.Chem import MACCSkeys\n",
    "\n",
    "# Read the negative_samples.csv file\n",
    "df = pd.read_csv('negative_samples.csv')\n",
    "\n",
    "# Define a function to generate MACCS fingerprints\n",
    "def generate_maccs_fp(smiles):\n",
    "    mol = Chem.MolFromSmiles(smiles)\n",
    "    return MACCSkeys.GenMACCSKeys(mol)\n",
    "\n",
    "# Create empty columns for MACCS fingerprints\n",
    "for i in range(167):\n",
    "    df[f'maccs_bit_{i+1}'] = 0\n",
    "\n",
    "# Iterate over the DataFrame to generate MACCS fingerprints for each pair of SMILES strings\n",
    "for index, row in df.iterrows():\n",
    "    molA_fp = generate_maccs_fp(row['coformer1'])\n",
    "    molC_fp = generate_maccs_fp(row['coformer2'])\n",
    "    \n",
    "    # Combine the two MACCS fingerprints by adding corresponding bits\n",
    "    combined_fp = ''.join(str(int(a) + int(b)) for a, b in zip(molA_fp.ToBitString(), molC_fp.ToBitString()))\n",
    "    \n",
    "    # If combined_fp is less than 167 bits, pad with zeros\n",
    "    combined_fp = combined_fp.ljust(167, '0')\n",
    "    \n",
    "    # Assign the combined_fp to the new columns\n",
    "    for i in range(167):\n",
    "        df.at[index, f'maccs_bit_{i+1}'] = combined_fp[i]\n",
    "\n",
    "# Add a new column 'form' and set all values to 0\n",
    "df['form'] = 0\n",
    "\n",
    "# Save the updated DataFrame to negative_samples_maccs.csv\n",
    "df.to_csv('negative_samples_maccs.csv', index=False)"
   ],
   "id": "bf1f9ec36f393f1c",
   "outputs": [
    {
     "name": "stderr",
     "output_type": "stream",
     "text": [
      "C:\\Users\\15710\\.conda\\envs\\cocrystal_py37\\lib\\site-packages\\ipykernel_launcher.py:15: PerformanceWarning: DataFrame is highly fragmented.  This is usually the result of calling `frame.insert` many times, which has poor performance.  Consider joining all columns at once using pd.concat(axis=1) instead.  To get a de-fragmented frame, use `newframe = frame.copy()`\n",
      "  from ipykernel import kernelapp as app\n"
     ]
    }
   ],
   "execution_count": 16
  },
  {
   "metadata": {},
   "cell_type": "markdown",
   "source": "after some manual adjustment of dataset ",
   "id": "3ccbfe47ab770f5e"
  },
  {
   "metadata": {
    "ExecuteTime": {
     "end_time": "2025-01-08T11:17:35.478866Z",
     "start_time": "2025-01-08T11:17:32.095530Z"
    }
   },
   "cell_type": "code",
   "source": [
    "import pandas as pd\n",
    "from sklearn.ensemble import RandomForestClassifier\n",
    "from sklearn.model_selection import train_test_split\n",
    "from sklearn.metrics import accuracy_score, classification_report\n",
    "import numpy as np\n",
    "from joblib import dump\n",
    "\n",
    "# Read the positive and negative sample datasets\n",
    "df_positive = pd.read_csv('maccs_fingerprints.csv')\n",
    "df_negative = pd.read_csv('negative_samples_maccs.csv')\n",
    "\n",
    "# Concatenate the datasets\n",
    "df_combined = pd.concat([df_positive, df_negative], ignore_index=True)\n",
    "\n",
    "# Shuffle the dataset with a random seed of 42\n",
    "np.random.seed(42)\n",
    "df_shuffled = df_combined.sample(frac=1).reset_index(drop=True)\n",
    "\n",
    "# Columns 4 to 170 are features, and the last column is the target\n",
    "X = df_shuffled.iloc[:, 3:170].values\n",
    "y = df_shuffled['form'].values\n",
    "\n",
    "# Split the dataset into training and testing sets with a ratio of 8:2\n",
    "X_train, X_test, y_train, y_test = train_test_split(X, y, test_size=0.2, random_state=42)\n",
    "\n",
    "# Train the Random Forest model\n",
    "rf_model = RandomForestClassifier(n_estimators=300, random_state=42)\n",
    "rf_model.fit(X_train, y_train)\n",
    "\n",
    "# Predict the test set\n",
    "y_pred = rf_model.predict(X_test)\n",
    "\n",
    "# Evaluate the model performance\n",
    "accuracy = accuracy_score(y_test, y_pred)\n",
    "report = classification_report(y_test, y_pred)\n",
    "\n",
    "print(f\"Accuracy: {accuracy}\")\n",
    "print(report)\n",
    "\n",
    "# Save the model\n",
    "dump(rf_model, 'rf_model_all_simulate_300.joblib')"
   ],
   "id": "6f11355b192fcfd5",
   "outputs": [
    {
     "name": "stdout",
     "output_type": "stream",
     "text": [
      "Accuracy: 0.910871694417238\n",
      "              precision    recall  f1-score   support\n",
      "\n",
      "           0       0.90      0.93      0.91      1552\n",
      "           1       0.92      0.90      0.91      1511\n",
      "\n",
      "    accuracy                           0.91      3063\n",
      "   macro avg       0.91      0.91      0.91      3063\n",
      "weighted avg       0.91      0.91      0.91      3063\n",
      "\n"
     ]
    },
    {
     "data": {
      "text/plain": [
       "['rf_model_all_simulate_300.joblib']"
      ]
     },
     "execution_count": 17,
     "metadata": {},
     "output_type": "execute_result"
    }
   ],
   "execution_count": 17
  },
  {
   "metadata": {
    "ExecuteTime": {
     "end_time": "2025-01-08T11:17:52.086673Z",
     "start_time": "2025-01-08T11:17:48.869352Z"
    }
   },
   "cell_type": "code",
   "source": [
    "import pandas as pd\n",
    "from sklearn.ensemble import RandomForestClassifier\n",
    "from sklearn.model_selection import train_test_split\n",
    "from sklearn.metrics import accuracy_score, classification_report\n",
    "import numpy as np\n",
    "from joblib import dump\n",
    "\n",
    "# Read the positive and negative sample datasets\n",
    "df_positive = pd.read_csv('maccs_fingerprints.csv')\n",
    "df_negative = pd.read_csv('negative_samples_maccs.csv')\n",
    "\n",
    "# Concatenate the datasets\n",
    "df_combined = pd.concat([df_positive, df_negative], ignore_index=True)\n",
    "\n",
    "# Shuffle the dataset with a random seed of 42\n",
    "np.random.seed(42)\n",
    "df_shuffled = df_combined.sample(frac=1).reset_index(drop=True)\n",
    "\n",
    "# Columns 4 to 170 are features, and the last column is the target\n",
    "X = df_shuffled.iloc[:, 3:170].values\n",
    "y = df_shuffled['form'].values\n",
    "\n",
    "# Split the dataset into training and testing sets with a ratio of 7:3\n",
    "X_train, X_test, y_train, y_test = train_test_split(X, y, test_size=0.3, random_state=42)\n",
    "\n",
    "# Train the Random Forest model\n",
    "rf_model = RandomForestClassifier(n_estimators=300, random_state=42)\n",
    "rf_model.fit(X_train, y_train)\n",
    "\n",
    "# Predict the test set\n",
    "y_pred = rf_model.predict(X_test)\n",
    "\n",
    "# Evaluate the model performance\n",
    "accuracy = accuracy_score(y_test, y_pred)\n",
    "report = classification_report(y_test, y_pred)\n",
    "\n",
    "print(f\"Accuracy: {accuracy}\")\n",
    "print(report)\n",
    "\n",
    "# Save the model\n",
    "dump(rf_model, 'rf_model_all_simulate_300.joblib')"
   ],
   "id": "3fda94453b1f437d",
   "outputs": [
    {
     "name": "stdout",
     "output_type": "stream",
     "text": [
      "Accuracy: 0.9103178058336961\n",
      "              precision    recall  f1-score   support\n",
      "\n",
      "           0       0.89      0.93      0.91      2306\n",
      "           1       0.93      0.89      0.91      2288\n",
      "\n",
      "    accuracy                           0.91      4594\n",
      "   macro avg       0.91      0.91      0.91      4594\n",
      "weighted avg       0.91      0.91      0.91      4594\n",
      "\n"
     ]
    },
    {
     "data": {
      "text/plain": [
       "['rf_model_all_simulate_300.joblib']"
      ]
     },
     "execution_count": 18,
     "metadata": {},
     "output_type": "execute_result"
    }
   ],
   "execution_count": 18
  },
  {
   "metadata": {
    "ExecuteTime": {
     "end_time": "2025-01-08T11:18:13.029395Z",
     "start_time": "2025-01-08T11:18:12.864333Z"
    }
   },
   "cell_type": "code",
   "source": [
    "import matplotlib.pyplot as plt\n",
    "import seaborn as sns\n",
    "from sklearn.metrics import confusion_matrix\n",
    "\n",
    "# Calculate the confusion matrix\n",
    "conf_matrix = confusion_matrix(y_test, y_pred)\n",
    "\n",
    "# Set the size of the figure\n",
    "plt.figure(figsize=(8, 6), dpi=200)\n",
    "\n",
    "# Use seaborn's heatmap function to plot the heatmap of the confusion matrix\n",
    "sns.heatmap(conf_matrix, annot=True, fmt='d', cmap='Blues')\n",
    "\n",
    "# Set the title and axis labels\n",
    "plt.title('Confusion Matrix')\n",
    "plt.xlabel('Predicted Label')\n",
    "plt.ylabel('True Label')\n",
    "\n",
    "# Display the plot\n",
    "plt.show()"
   ],
   "id": "7d08865726c92bdc",
   "outputs": [
    {
     "data": {
      "text/plain": [
       "<Figure size 1600x1200 with 2 Axes>"
      ],
      "image/png": "[encoded data removed]"
     },
     "metadata": {},
     "output_type": "display_data"
    }
   ],
   "execution_count": 19
  },
  {
   "metadata": {},
   "cell_type": "markdown",
   "source": "",
   "id": "32db2bdfebca9744"
  },
  {
   "metadata": {
    "ExecuteTime": {
     "end_time": "2025-01-08T11:28:40.877871Z",
     "start_time": "2025-01-08T11:28:40.718053Z"
    }
   },
   "cell_type": "code",
   "source": [
    "import pandas as pd\n",
    "from rdkit import Chem\n",
    "from rdkit.Chem import MACCSkeys\n",
    "\n",
    "# Read the ca_60_smiles.csv file\n",
    "df = pd.read_csv('ca_60_smiles.csv')\n",
    "\n",
    "# Define a function to generate MACCS fingerprints\n",
    "def generate_maccs_fp(smiles):\n",
    "    mol = Chem.MolFromSmiles(smiles)\n",
    "    return MACCSkeys.GenMACCSKeys(mol)\n",
    "\n",
    "# Create empty columns for MACCS fingerprints\n",
    "for i in range(167):\n",
    "    df[f'maccs_bit_{i+1}'] = 0\n",
    "\n",
    "# Iterate over the DataFrame to generate MACCS fingerprints for each pair of SMILES strings\n",
    "for index, row in df.iterrows():\n",
    "    molA_fp = generate_maccs_fp(row['coformer1'])\n",
    "    molC_fp = generate_maccs_fp(row['coformer2'])\n",
    "    \n",
    "    # Combine the two MACCS fingerprints by adding corresponding bits\n",
    "    combined_fp = ''.join(str(int(a) + int(b)) for a, b in zip(molA_fp.ToBitString(), molC_fp.ToBitString()))\n",
    "    \n",
    "    # If combined_fp is less than 167 bits, pad with zeros\n",
    "    combined_fp = combined_fp.ljust(167, '0')\n",
    "    \n",
    "    # Assign the combined_fp to the new columns\n",
    "    for i in range(167):\n",
    "        df.at[index, f'maccs_bit_{i+1}'] = combined_fp[i]\n",
    "\n",
    "# Save the updated DataFrame to ca_60_smiles_maccs.csv\n",
    "df.to_csv('ca_60_smiles_maccs.csv', index=False)"
   ],
   "id": "d3f7a9da3608d0ff",
   "outputs": [
    {
     "name": "stderr",
     "output_type": "stream",
     "text": [
      "C:\\Users\\15710\\.conda\\envs\\cocrystal_py37\\lib\\site-packages\\ipykernel_launcher.py:15: PerformanceWarning: DataFrame is highly fragmented.  This is usually the result of calling `frame.insert` many times, which has poor performance.  Consider joining all columns at once using pd.concat(axis=1) instead.  To get a de-fragmented frame, use `newframe = frame.copy()`\n",
      "  from ipykernel import kernelapp as app\n"
     ]
    }
   ],
   "execution_count": 21
  },
  {
   "metadata": {
    "ExecuteTime": {
     "end_time": "2025-01-08T11:34:47.085562Z",
     "start_time": "2025-01-08T11:34:46.940611Z"
    }
   },
   "cell_type": "code",
   "source": [
    "from joblib import load\n",
    "import pandas as pd\n",
    "import numpy as np\n",
    "\n",
    "# Load the trained Random Forest model\n",
    "model = load('rf_model_all_simulate_300.joblib')\n",
    "\n",
    "# Read the test dataset\n",
    "test_df = pd.read_csv('ca_60_smiles_maccs.csv')\n",
    "\n",
    "# Extract columns 4 to 170 as features\n",
    "X_test = test_df.iloc[:, 3:170].values\n",
    "\n",
    "# Use the model to make predictions, getting the probability of being class 1\n",
    "predicted_probabilities = model.predict_proba(X_test)\n",
    "\n",
    "# Round the predicted probabilities for class 1 to two decimal places\n",
    "rounded_predicted_probabilities = np.round(predicted_probabilities[:, 1], 2)\n",
    "\n",
    "# Add the rounded predicted probabilities to the DataFrame\n",
    "test_df['predicted_form_prob'] = rounded_predicted_probabilities  # Assuming the positive class label is 1\n",
    "\n",
    "# Save the predictions to a new CSV file\n",
    "test_df.to_csv('ca_60_maccs_predictions.csv', index=False)\n",
    "\n",
    "# Print the first few rows of the predictions\n",
    "print(test_df.head())"
   ],
   "id": "516b829a1e5dc31a",
   "outputs": [
    {
     "name": "stdout",
     "output_type": "stream",
     "text": [
      "   id                     coformer1  \\\n",
      "0   1  O=C(C(Cl)=C1O)C(O)=C(Cl)C1=O   \n",
      "1   2  O=C(C(Cl)=C1O)C(O)=C(Cl)C1=O   \n",
      "2   3  O=C(C(Cl)=C1O)C(O)=C(Cl)C1=O   \n",
      "3   4  O=C(C(Cl)=C1O)C(O)=C(Cl)C1=O   \n",
      "4   5  O=C(C(Cl)=C1O)C(O)=C(Cl)C1=O   \n",
      "\n",
      "                                        coformer2  maccs_bit_1  maccs_bit_2  \\\n",
      "0                            c1ccc2nc3ccccc3nc2c1            0            0   \n",
      "1                           CC1=NC2=CC=CC=C2N=C1C            0            0   \n",
      "2                            c1cnc2cc3nccnc3cc2n1            0            0   \n",
      "3                    c1nc2cc3nc4ccccc4nc3cc2[nH]1            0            0   \n",
      "4  c1ccc2nc3c(nc2c1)c1nc2ccccc2nc1c1nc2ccccc2nc31            0            0   \n",
      "\n",
      "   maccs_bit_3  maccs_bit_4  maccs_bit_5  maccs_bit_6  maccs_bit_7  ...  \\\n",
      "0            0            0            0            0            0  ...   \n",
      "1            0            0            0            0            0  ...   \n",
      "2            0            0            0            0            0  ...   \n",
      "3            0            0            0            0            0  ...   \n",
      "4            0            0            0            0            0  ...   \n",
      "\n",
      "   maccs_bit_159  maccs_bit_160  maccs_bit_161  maccs_bit_162  maccs_bit_163  \\\n",
      "0              0              1              0              1              1   \n",
      "1              0              1              1              1              1   \n",
      "2              0              1              0              1              1   \n",
      "3              0              1              0              1              1   \n",
      "4              0              1              0              1              1   \n",
      "\n",
      "   maccs_bit_164  maccs_bit_165  maccs_bit_166  maccs_bit_167  \\\n",
      "0              2              1              2              0   \n",
      "1              2              1              2              0   \n",
      "2              2              1              2              0   \n",
      "3              2              1              2              0   \n",
      "4              2              1              2              0   \n",
      "\n",
      "   predicted_form_prob  \n",
      "0                 0.99  \n",
      "1                 0.90  \n",
      "2                 0.95  \n",
      "3                 0.67  \n",
      "4                 0.95  \n",
      "\n",
      "[5 rows x 171 columns]\n"
     ]
    }
   ],
   "execution_count": 25
  }
 ],
 "metadata": {
  "kernelspec": {
   "display_name": "Python 3",
   "language": "python",
   "name": "python3"
  },
  "language_info": {
   "codemirror_mode": {
    "name": "ipython",
    "version": 2
   },
   "file_extension": ".py",
   "mimetype": "text/x-python",
   "name": "python",
   "nbconvert_exporter": "python",
   "pygments_lexer": "ipython2",
   "version": "2.7.6"
  }
 },
 "nbformat": 4,
 "nbformat_minor": 5
}
