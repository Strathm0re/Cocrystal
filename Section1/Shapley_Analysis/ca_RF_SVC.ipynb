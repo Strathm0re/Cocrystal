{
 "cells": [
  {
   "cell_type": "code",
   "id": "initial_id",
   "metadata": {
    "collapsed": true,
    "ExecuteTime": {
     "end_time": "2025-01-08T07:38:32.347266Z",
     "start_time": "2025-01-08T07:38:32.344758Z"
    }
   },
   "source": "import pandas as pd\n",
   "outputs": [],
   "execution_count": 1
  },
  {
   "metadata": {},
   "cell_type": "markdown",
   "source": "",
   "id": "4feb976f430214e3"
  },
  {
   "metadata": {
    "ExecuteTime": {
     "end_time": "2025-01-08T07:38:32.363773Z",
     "start_time": "2025-01-08T07:38:32.348265Z"
    }
   },
   "cell_type": "code",
   "source": [
    "df = pd.read_csv('./features/feature_merge_1219/csv/merged_features_original_18_0108_51_11.csv')\n",
    "\n",
    "print(df.head())"
   ],
   "id": "7a76c95029314546",
   "outputs": [
    {
     "name": "stdout",
     "output_type": "stream",
     "text": [
      "     filename  A_HOMO_LUMO  B_HOMO_LUMO  A_Dipole  B_Dipole   mean_CN  \\\n",
      "0  CADPAB.cif     2.721574     7.285991    5.4464    4.2160  7.559311   \n",
      "1  CECPUY.cif     2.773650     5.426899    4.8892    2.7691  7.168179   \n",
      "2  CECRIO.cif     2.793827     5.501169    4.8046    0.7412  7.984630   \n",
      "3  CECXEQ.cif     2.775525     5.427855    4.9502    2.2394  6.967348   \n",
      "4  DOJKIY.cif     2.701374     6.494500    5.1755    2.5365  7.159820   \n",
      "\n",
      "   mean_NDV  max packing efficiency   density        vpa  packing fraction  \\\n",
      "0  0.290453                0.072656  1.560219  10.056343          0.091649   \n",
      "1  0.313178                0.077633  1.560587  10.851112          0.096749   \n",
      "2  0.284820                0.075917  1.320394  10.020311          0.083520   \n",
      "3  0.313415                0.079289  1.648445  10.272777          0.102196   \n",
      "4  0.323809                0.073894  1.558056  11.213218          0.094581   \n",
      "\n",
      "    SC_atom      SC_cell  E_els    E_x  E_rep  E_orb  E_DFTc  E_dc  polarity  \n",
      "0  5.169925   372.234600 -49.08  -1.00   7.40  -4.05   -2.63 -4.48         0  \n",
      "1  4.954196   614.320343 -89.76 -11.30  41.24 -26.44   -5.58 -3.58         0  \n",
      "2  5.700440  1185.691461 -77.43 -12.62  43.91 -21.22   -8.55 -7.35         0  \n",
      "3  4.954196   307.160171 -87.96 -13.69  47.86 -27.86   -5.93 -3.91         0  \n",
      "4  4.857981   563.525795 -63.02  -1.07  12.37  -6.91   -4.84 -9.04         0  \n"
     ]
    }
   ],
   "execution_count": 2
  },
  {
   "metadata": {
    "ExecuteTime": {
     "end_time": "2025-01-08T07:38:32.373773Z",
     "start_time": "2025-01-08T07:38:32.364774Z"
    }
   },
   "cell_type": "code",
   "source": [
    "df_reset = df.reset_index(drop=True)\n",
    "\n",
    "features = df.iloc[0:, 1:-1]  \n",
    "polarity = df.iloc[:, -1]\n",
    "\n",
    "print(features.head())\n",
    "\n",
    "print(polarity.head())"
   ],
   "id": "a80fe0388da1c380",
   "outputs": [
    {
     "name": "stdout",
     "output_type": "stream",
     "text": [
      "   A_HOMO_LUMO  B_HOMO_LUMO  A_Dipole  B_Dipole   mean_CN  mean_NDV  \\\n",
      "0     2.721574     7.285991    5.4464    4.2160  7.559311  0.290453   \n",
      "1     2.773650     5.426899    4.8892    2.7691  7.168179  0.313178   \n",
      "2     2.793827     5.501169    4.8046    0.7412  7.984630  0.284820   \n",
      "3     2.775525     5.427855    4.9502    2.2394  6.967348  0.313415   \n",
      "4     2.701374     6.494500    5.1755    2.5365  7.159820  0.323809   \n",
      "\n",
      "   max packing efficiency   density        vpa  packing fraction   SC_atom  \\\n",
      "0                0.072656  1.560219  10.056343          0.091649  5.169925   \n",
      "1                0.077633  1.560587  10.851112          0.096749  4.954196   \n",
      "2                0.075917  1.320394  10.020311          0.083520  5.700440   \n",
      "3                0.079289  1.648445  10.272777          0.102196  4.954196   \n",
      "4                0.073894  1.558056  11.213218          0.094581  4.857981   \n",
      "\n",
      "       SC_cell  E_els    E_x  E_rep  E_orb  E_DFTc  E_dc  \n",
      "0   372.234600 -49.08  -1.00   7.40  -4.05   -2.63 -4.48  \n",
      "1   614.320343 -89.76 -11.30  41.24 -26.44   -5.58 -3.58  \n",
      "2  1185.691461 -77.43 -12.62  43.91 -21.22   -8.55 -7.35  \n",
      "3   307.160171 -87.96 -13.69  47.86 -27.86   -5.93 -3.91  \n",
      "4   563.525795 -63.02  -1.07  12.37  -6.91   -4.84 -9.04  \n",
      "0    0\n",
      "1    0\n",
      "2    0\n",
      "3    0\n",
      "4    0\n",
      "Name: polarity, dtype: int64\n"
     ]
    }
   ],
   "execution_count": 3
  },
  {
   "metadata": {
    "ExecuteTime": {
     "end_time": "2025-01-08T07:38:32.966522Z",
     "start_time": "2025-01-08T07:38:32.374773Z"
    }
   },
   "cell_type": "code",
   "source": [
    "import matplotlib.pyplot as plt\n",
    "import shap"
   ],
   "id": "b19e6d35998510b2",
   "outputs": [],
   "execution_count": 4
  },
  {
   "metadata": {
    "ExecuteTime": {
     "end_time": "2025-01-08T07:43:18.892905Z",
     "start_time": "2025-01-08T07:38:32.970522Z"
    }
   },
   "cell_type": "code",
   "source": [
    "from sklearn.model_selection import GridSearchCV\n",
    "from sklearn.metrics import accuracy_score\n",
    "from sklearn.svm import SVC\n",
    "\n",
    "# Create an instance of the SVM classifier\n",
    "clf = SVC()\n",
    "\n",
    "# Set the parameter grid for SVM\n",
    "param_grid = {\n",
    "    'C': [0.1, 1, 10, 100],  # Regularization parameter\n",
    "    'kernel': ['linear', 'rbf', 'poly'],  # Type of kernel function\n",
    "    'gamma': ['scale', 'auto'],  # Kernel coefficient for 'rbf', 'poly', and 'sigmoid' kernels\n",
    "    'degree': [2, 3, 4],  # Degree of the kernel function, used only when kernel is 'poly'\n",
    "    'coef0': [0.0, 0.5, 1.0]  # Independent term in kernel function, used only when kernel is 'poly' or 'sigmoid'\n",
    "}\n",
    "\n",
    "# Create an instance of GridSearchCV\n",
    "grid_search = GridSearchCV(estimator=clf, param_grid=param_grid, scoring='accuracy', cv=5, verbose=1)\n",
    "grid_search.fit(features, polarity)\n",
    "\n",
    "# Output the best parameters and the corresponding best score\n",
    "print('Best parameters:', grid_search.best_params_)\n",
    "print('Best accuracy score:', grid_search.best_score_)\n",
    "\n",
    "# Make predictions on the entire dataset using the model with the best parameters\n",
    "best_model = grid_search.best_estimator_\n",
    "predictions = best_model.predict(features)\n",
    "\n",
    "# Calculate the accuracy on the entire dataset\n",
    "accuracy = accuracy_score(polarity, predictions)\n",
    "print('Accuracy score on the entire dataset:', accuracy)"
   ],
   "id": "6b6325f805af3462",
   "outputs": [
    {
     "name": "stdout",
     "output_type": "stream",
     "text": [
      "Fitting 5 folds for each of 216 candidates, totalling 1080 fits\n",
      "Best parameters: {'C': 0.1, 'coef0': 0.0, 'degree': 3, 'gamma': 'auto', 'kernel': 'poly'}\n",
      "Best accuracy score: 0.8564102564102564\n",
      "Accuracy score on the entire dataset: 1.0\n"
     ]
    }
   ],
   "execution_count": 5
  },
  {
   "metadata": {
    "ExecuteTime": {
     "end_time": "2025-01-08T08:12:41.212648Z",
     "start_time": "2025-01-08T08:12:40.558290Z"
    }
   },
   "cell_type": "code",
   "source": [
    "import shap\n",
    "from sklearn.ensemble import RandomForestClassifier\n",
    "from sklearn.model_selection import cross_val_score\n",
    "from sklearn.metrics import accuracy_score\n",
    "best_params =  {'C': 0.1, 'coef0': 0.0, 'degree': 3, 'gamma': 'auto', 'kernel': 'poly'}\n",
    "clf = SVC(**best_params)\n",
    "\n",
    "# Use cross-validation to compute the model's accuracy\n",
    "scores = cross_val_score(clf, features, polarity, cv=5, scoring='accuracy')\n",
    "\n",
    "# Print the accuracy\n",
    "print(\"Accuracy: %0.2f (+/- %0.2f)\" % (scores.mean(), scores.std() * 2))\n",
    "\n",
    "# Train the model and evaluate its performance on the entire dataset\n",
    "clf.fit(features, polarity)  # Train the model\n",
    "predictions = clf.predict(features)  # Make predictions\n",
    "\n",
    "# Calculate the accuracy on the entire dataset\n",
    "accuracy = accuracy_score(polarity, predictions)\n",
    "print('Accuracy score on the entire dataset:', accuracy)"
   ],
   "id": "68a7ee781c123d43",
   "outputs": [
    {
     "name": "stdout",
     "output_type": "stream",
     "text": [
      "Accuracy: 0.86 (+/- 0.23)\n",
      "Accuracy score on the entire dataset: 1.0\n"
     ]
    }
   ],
   "execution_count": 35
  },
  {
   "metadata": {
    "ExecuteTime": {
     "end_time": "2025-01-08T08:00:54.533963Z",
     "start_time": "2025-01-08T07:58:22.480584Z"
    }
   },
   "cell_type": "code",
   "source": [
    "from sklearn.model_selection import GridSearchCV\n",
    "from sklearn.metrics import accuracy_score\n",
    "from sklearn.ensemble import RandomForestClassifier\n",
    "\n",
    "# Create an instance of the RandomForestClassifier\n",
    "clf = RandomForestClassifier()\n",
    "\n",
    "# Set the parameter grid for the RandomForestClassifier\n",
    "param_grid = {\n",
    "    'n_estimators': [100, 200, 300],  # Number of trees in the forest\n",
    "    'max_depth': [3, 4, 5, 6, None],  # Maximum depth of the tree\n",
    "    'min_samples_split': [2, 5, 10],  # Minimum number of samples required to split an internal node\n",
    "    'min_samples_leaf': [1, 2, 4, 8],  # Minimum number of samples required to be at a leaf node\n",
    "    'bootstrap': [True, False]  # Whether bootstrap samples are used when constructing trees\n",
    "}\n",
    "\n",
    "# Create an instance of GridSearchCV\n",
    "grid_search = GridSearchCV(estimator=clf, param_grid=param_grid, scoring='accuracy', cv=5, verbose=1)\n",
    "grid_search.fit(features, polarity)\n",
    "\n",
    "# Output the best parameters and the corresponding best score\n",
    "print('Best parameters:', grid_search.best_params_)\n",
    "print('Best accuracy score:', grid_search.best_score_)\n",
    "\n",
    "# Make predictions on the entire dataset using the model with the best parameters\n",
    "best_model = grid_search.best_estimator_\n",
    "predictions = best_model.predict(features)\n",
    "\n",
    "# Calculate the accuracy on the entire dataset\n",
    "accuracy = accuracy_score(polarity, predictions)\n",
    "print('Accuracy score on the entire dataset:', accuracy)"
   ],
   "id": "94c940764389b8cb",
   "outputs": [
    {
     "name": "stdout",
     "output_type": "stream",
     "text": [
      "Fitting 5 folds for each of 360 candidates, totalling 1800 fits\n",
      "Best parameters: {'bootstrap': True, 'max_depth': 5, 'min_samples_leaf': 2, 'min_samples_split': 2, 'n_estimators': 300}\n",
      "Best accuracy score: 0.9217948717948719\n",
      "Accuracy score on the entire dataset: 0.9838709677419355\n"
     ]
    },
    {
     "name": "stderr",
     "output_type": "stream",
     "text": [
      "C:\\Users\\15710\\.conda\\envs\\ca_120\\lib\\site-packages\\numpy\\ma\\core.py:2820: RuntimeWarning: invalid value encountered in cast\n",
      "  _data = np.array(data, dtype=dtype, copy=copy,\n"
     ]
    }
   ],
   "execution_count": 27
  },
  {
   "metadata": {
    "ExecuteTime": {
     "end_time": "2025-01-08T08:11:30.876473Z",
     "start_time": "2025-01-08T08:11:29.959443Z"
    }
   },
   "cell_type": "code",
   "source": [
    "import shap\n",
    "from sklearn.ensemble import RandomForestClassifier\n",
    "from sklearn.model_selection import cross_val_score\n",
    "from sklearn.metrics import accuracy_score\n",
    "import numpy as np\n",
    "\n",
    "# Define the best parameters\n",
    "# best_params = {'bootstrap': True, 'max_depth': 3, 'min_samples_leaf': 1, 'min_samples_split': 2, 'n_estimators': 200}\n",
    "best_params = {'bootstrap': True, 'max_depth': 5, 'min_samples_leaf': 2, 'min_samples_split': 2, 'n_estimators': 300}\n",
    "\n",
    "# Create an instance of the RandomForestClassifier\n",
    "clf = RandomForestClassifier(**best_params)\n",
    "\n",
    "# Use cross-validation to compute the model's accuracy\n",
    "scores = cross_val_score(clf, features, polarity, cv=5, scoring='accuracy')\n",
    "\n",
    "# Print the accuracy\n",
    "print(\"Accuracy: %0.2f (+/- %0.2f)\" % (scores.mean(), scores.std() * 2))\n",
    "\n",
    "# Train the model and evaluate its performance on the entire dataset\n",
    "clf.fit(features, polarity)  # Train the model\n",
    "predictions = clf.predict(features)  # Make predictions\n",
    "\n",
    "# Calculate the accuracy on the entire dataset\n",
    "accuracy = accuracy_score(polarity, predictions)\n",
    "print('Accuracy score on the entire dataset:', accuracy)"
   ],
   "id": "1ca84bdfb5ad5bdd",
   "outputs": [
    {
     "name": "stdout",
     "output_type": "stream",
     "text": [
      "Accuracy: 0.87 (+/- 0.16)\n",
      "Accuracy score on the entire dataset: 0.9838709677419355\n"
     ]
    }
   ],
   "execution_count": 32
  }
 ],
 "metadata": {
  "kernelspec": {
   "display_name": "Python 3",
   "language": "python",
   "name": "python3"
  },
  "language_info": {
   "codemirror_mode": {
    "name": "ipython",
    "version": 2
   },
   "file_extension": ".py",
   "mimetype": "text/x-python",
   "name": "python",
   "nbconvert_exporter": "python",
   "pygments_lexer": "ipython2",
   "version": "2.7.6"
  }
 },
 "nbformat": 4,
 "nbformat_minor": 5
}
